{
  "nbformat": 4,
  "nbformat_minor": 0,
  "metadata": {
    "colab": {
      "name": "AML4.ipynb",
      "provenance": []
    },
    "kernelspec": {
      "name": "python3",
      "display_name": "Python 3"
    },
    "language_info": {
      "name": "python"
    }
  },
  "cells": [
    {
      "cell_type": "code",
      "metadata": {
        "id": "Mwk5v1TnRMUI"
      },
      "source": [
        "import pandas as pd\n",
        "import matplotlib.pyplot as plt\n",
        "import seaborn as sns\n",
        "import numpy as np"
      ],
      "execution_count": 1,
      "outputs": []
    },
    {
      "cell_type": "markdown",
      "metadata": {
        "id": "gsqC_gTs439C"
      },
      "source": [
        "#### 1.\tLoad titanic dataset"
      ]
    },
    {
      "cell_type": "code",
      "metadata": {
        "colab": {
          "base_uri": "https://localhost:8080/"
        },
        "id": "0LDKIzCQSNLo",
        "outputId": "ebf27a1c-ab41-49aa-8beb-bb1e650c560f"
      },
      "source": [
        "# download dataset from given link and rename titanic.csv to Titanic dataset.csv\n",
        "# https://data.world/xprizeai-ai/titanic-disaster-dataset\n",
        "data=pd.read_csv('/content/Titanic dataset.csv')\n",
        "data=data.iloc[:-1,:-3]\n",
        "data.shape"
      ],
      "execution_count": 31,
      "outputs": [
        {
          "output_type": "execute_result",
          "data": {
            "text/plain": [
              "(1309, 11)"
            ]
          },
          "metadata": {},
          "execution_count": 31
        }
      ]
    },
    {
      "cell_type": "markdown",
      "metadata": {
        "id": "daQQrNCM5EKj"
      },
      "source": [
        "#### 2.\tDo the exploratory analysis of the dataset \n"
      ]
    },
    {
      "cell_type": "code",
      "metadata": {
        "colab": {
          "base_uri": "https://localhost:8080/"
        },
        "id": "85V08SxpT2R2",
        "outputId": "c24dba81-88b9-46ae-cf15-7811f6bff76a"
      },
      "source": [
        "print('Shape: ',data.shape)\n",
        "#Dataset comprises of 1309 observations and 11 characteristics (10 independant and 1 dependant)"
      ],
      "execution_count": 9,
      "outputs": [
        {
          "output_type": "stream",
          "name": "stdout",
          "text": [
            "Shape:  (1309, 11)\n"
          ]
        }
      ]
    },
    {
      "cell_type": "code",
      "metadata": {
        "colab": {
          "base_uri": "https://localhost:8080/"
        },
        "id": "5Ai5I5rBUe9g",
        "outputId": "8b9d0dac-fc3a-4c03-a522-ca4ca86f2026"
      },
      "source": [
        "data.info()\n",
        "# Data has 6 columns of float dtype, 5 of object(string) dtype\n",
        "# age, fare, cabin, embarked columns have null/missing values.\n",
        "# cabin has too many missing values"
      ],
      "execution_count": 32,
      "outputs": [
        {
          "output_type": "stream",
          "name": "stdout",
          "text": [
            "<class 'pandas.core.frame.DataFrame'>\n",
            "RangeIndex: 1309 entries, 0 to 1308\n",
            "Data columns (total 11 columns):\n",
            " #   Column    Non-Null Count  Dtype  \n",
            "---  ------    --------------  -----  \n",
            " 0   pclass    1309 non-null   float64\n",
            " 1   survived  1309 non-null   float64\n",
            " 2   name      1309 non-null   object \n",
            " 3   sex       1309 non-null   object \n",
            " 4   age       1046 non-null   float64\n",
            " 5   sibsp     1309 non-null   float64\n",
            " 6   parch     1309 non-null   float64\n",
            " 7   ticket    1309 non-null   object \n",
            " 8   fare      1308 non-null   float64\n",
            " 9   cabin     295 non-null    object \n",
            " 10  embarked  1307 non-null   object \n",
            "dtypes: float64(6), object(5)\n",
            "memory usage: 112.6+ KB\n"
          ]
        }
      ]
    },
    {
      "cell_type": "code",
      "metadata": {
        "id": "Mo1oHybSVFyt"
      },
      "source": [
        "# making a list of columns with only integer and float values\n",
        "numeric_columns = ['pclass','survived','age','sibsp','parch','fare']"
      ],
      "execution_count": null,
      "outputs": []
    },
    {
      "cell_type": "code",
      "metadata": {
        "colab": {
          "base_uri": "https://localhost:8080/",
          "height": 299
        },
        "id": "ZPAuKqGGU5ch",
        "outputId": "f8250b2a-a175-4815-aea0-77a4441441ca"
      },
      "source": [
        "data[numeric_columns].describe()\n",
        "# There is a large difference between 75th %tile and max values of 'age','fare' implies that the outliers have notably larger values"
      ],
      "execution_count": null,
      "outputs": [
        {
          "output_type": "execute_result",
          "data": {
            "text/html": [
              "<div>\n",
              "<style scoped>\n",
              "    .dataframe tbody tr th:only-of-type {\n",
              "        vertical-align: middle;\n",
              "    }\n",
              "\n",
              "    .dataframe tbody tr th {\n",
              "        vertical-align: top;\n",
              "    }\n",
              "\n",
              "    .dataframe thead th {\n",
              "        text-align: right;\n",
              "    }\n",
              "</style>\n",
              "<table border=\"1\" class=\"dataframe\">\n",
              "  <thead>\n",
              "    <tr style=\"text-align: right;\">\n",
              "      <th></th>\n",
              "      <th>pclass</th>\n",
              "      <th>survived</th>\n",
              "      <th>age</th>\n",
              "      <th>sibsp</th>\n",
              "      <th>parch</th>\n",
              "      <th>fare</th>\n",
              "    </tr>\n",
              "  </thead>\n",
              "  <tbody>\n",
              "    <tr>\n",
              "      <th>count</th>\n",
              "      <td>1309.000000</td>\n",
              "      <td>1309.000000</td>\n",
              "      <td>1046.000000</td>\n",
              "      <td>1309.000000</td>\n",
              "      <td>1309.000000</td>\n",
              "      <td>1308.000000</td>\n",
              "    </tr>\n",
              "    <tr>\n",
              "      <th>mean</th>\n",
              "      <td>2.294882</td>\n",
              "      <td>0.381971</td>\n",
              "      <td>29.881135</td>\n",
              "      <td>0.498854</td>\n",
              "      <td>0.385027</td>\n",
              "      <td>33.295479</td>\n",
              "    </tr>\n",
              "    <tr>\n",
              "      <th>std</th>\n",
              "      <td>0.837836</td>\n",
              "      <td>0.486055</td>\n",
              "      <td>14.413500</td>\n",
              "      <td>1.041658</td>\n",
              "      <td>0.865560</td>\n",
              "      <td>51.758668</td>\n",
              "    </tr>\n",
              "    <tr>\n",
              "      <th>min</th>\n",
              "      <td>1.000000</td>\n",
              "      <td>0.000000</td>\n",
              "      <td>0.166700</td>\n",
              "      <td>0.000000</td>\n",
              "      <td>0.000000</td>\n",
              "      <td>0.000000</td>\n",
              "    </tr>\n",
              "    <tr>\n",
              "      <th>25%</th>\n",
              "      <td>2.000000</td>\n",
              "      <td>0.000000</td>\n",
              "      <td>21.000000</td>\n",
              "      <td>0.000000</td>\n",
              "      <td>0.000000</td>\n",
              "      <td>7.895800</td>\n",
              "    </tr>\n",
              "    <tr>\n",
              "      <th>50%</th>\n",
              "      <td>3.000000</td>\n",
              "      <td>0.000000</td>\n",
              "      <td>28.000000</td>\n",
              "      <td>0.000000</td>\n",
              "      <td>0.000000</td>\n",
              "      <td>14.454200</td>\n",
              "    </tr>\n",
              "    <tr>\n",
              "      <th>75%</th>\n",
              "      <td>3.000000</td>\n",
              "      <td>1.000000</td>\n",
              "      <td>39.000000</td>\n",
              "      <td>1.000000</td>\n",
              "      <td>0.000000</td>\n",
              "      <td>31.275000</td>\n",
              "    </tr>\n",
              "    <tr>\n",
              "      <th>max</th>\n",
              "      <td>3.000000</td>\n",
              "      <td>1.000000</td>\n",
              "      <td>80.000000</td>\n",
              "      <td>8.000000</td>\n",
              "      <td>9.000000</td>\n",
              "      <td>512.329200</td>\n",
              "    </tr>\n",
              "  </tbody>\n",
              "</table>\n",
              "</div>"
            ],
            "text/plain": [
              "            pclass     survived  ...        parch         fare\n",
              "count  1309.000000  1309.000000  ...  1309.000000  1308.000000\n",
              "mean      2.294882     0.381971  ...     0.385027    33.295479\n",
              "std       0.837836     0.486055  ...     0.865560    51.758668\n",
              "min       1.000000     0.000000  ...     0.000000     0.000000\n",
              "25%       2.000000     0.000000  ...     0.000000     7.895800\n",
              "50%       3.000000     0.000000  ...     0.000000    14.454200\n",
              "75%       3.000000     1.000000  ...     0.000000    31.275000\n",
              "max       3.000000     1.000000  ...     9.000000   512.329200\n",
              "\n",
              "[8 rows x 6 columns]"
            ]
          },
          "metadata": {},
          "execution_count": 6
        }
      ]
    },
    {
      "cell_type": "markdown",
      "metadata": {
        "id": "YbCqKLQM5NNn"
      },
      "source": [
        "#####\tPerform univariate analysis by plotting various charts \n"
      ]
    },
    {
      "cell_type": "code",
      "metadata": {
        "colab": {
          "base_uri": "https://localhost:8080/",
          "height": 597
        },
        "id": "x9Ru1ARvVsQv",
        "outputId": "881e8ee4-2f7b-4340-a7b7-5ffa9f21e632"
      },
      "source": [
        "# histograms\n",
        "data[numeric_columns].hist(alpha=0.5,figsize=(8,8))\n",
        "plt.tight_layout(pad=0.5)\n",
        "plt.show()"
      ],
      "execution_count": null,
      "outputs": [
        {
          "output_type": "display_data",
          "data": {
            "image/png": "[encoded data removed]",
            "text/plain": [
              "<Figure size 576x576 with 6 Axes>"
            ]
          },
          "metadata": {
            "needs_background": "light"
          }
        }
      ]
    },
    {
      "cell_type": "code",
      "metadata": {
        "colab": {
          "base_uri": "https://localhost:8080/",
          "height": 381
        },
        "id": "eH3bnJT9WHCe",
        "outputId": "57720004-3e32-40ee-929a-b2b7c3e44e01"
      },
      "source": [
        "# boxplots\n",
        "# box plots to view distribution of values across their range and identify which columns have outliers\n",
        "fig, axs = plt.subplots(ncols=6, nrows=1, figsize=(10, 5))\n",
        "axs = axs.flatten()\n",
        "i = 0\n",
        "for c in numeric_columns:\n",
        "    sns.boxplot(y=c, data=data, ax=axs[i])\n",
        "    i += 1\n",
        "plt.tight_layout(pad=0.5, w_pad=0.5, h_pad=5.0)\n",
        "# age, sibsp, parch, fare columns have a lot of outliers"
      ],
      "execution_count": null,
      "outputs": [
        {
          "output_type": "display_data",
          "data": {
            "image/png": "[encoded data removed]",
            "text/plain": [
              "<Figure size 720x360 with 6 Axes>"
            ]
          },
          "metadata": {
            "needs_background": "light"
          }
        }
      ]
    },
    {
      "cell_type": "markdown",
      "metadata": {
        "id": "G7v4jsXr5WPE"
      },
      "source": [
        "##### Perform multivariate analysis \n"
      ]
    },
    {
      "cell_type": "code",
      "metadata": {
        "colab": {
          "base_uri": "https://localhost:8080/",
          "height": 505
        },
        "id": "kTuz7xdqXEy6",
        "outputId": "477529fb-497c-452e-e2e4-370bcb6ed2ba"
      },
      "source": [
        "plt.figure(figsize=(8,8))\n",
        "sns.heatmap(data=data.corr(),cmap='Blues',annot=True,linewidths=0.2)\n",
        "# no 2 columns are highly correlated"
      ],
      "execution_count": null,
      "outputs": [
        {
          "output_type": "execute_result",
          "data": {
            "text/plain": [
              "<matplotlib.axes._subplots.AxesSubplot at 0x7ff5da5b3f10>"
            ]
          },
          "metadata": {},
          "execution_count": 9
        },
        {
          "output_type": "display_data",
          "data": {
            "image/png": "[encoded data removed]",
            "text/plain": [
              "<Figure size 576x576 with 2 Axes>"
            ]
          },
          "metadata": {
            "needs_background": "light"
          }
        }
      ]
    },
    {
      "cell_type": "markdown",
      "metadata": {
        "id": "bk4hTdOS5g_K"
      },
      "source": [
        "#### 3.\tImpute the missing values and remove any undesirable feature from the dataset."
      ]
    },
    {
      "cell_type": "code",
      "metadata": {
        "id": "JwEz4HOfwuOo"
      },
      "source": [
        "# splitting features and target variable\n",
        "X = pd.concat([data.iloc[:,0],data.iloc[:,2:]],axis=1)\n",
        "y = data.iloc[:,1]"
      ],
      "execution_count": null,
      "outputs": []
    },
    {
      "cell_type": "code",
      "metadata": {
        "id": "YFwoUqBDX5ze"
      },
      "source": [
        "# Imputing missing values using most_frequent strategy\n",
        "from sklearn.impute import SimpleImputer\n",
        "imp = SimpleImputer(missing_values=np.NaN, strategy='most_frequent')\n",
        "X = pd.DataFrame(imp.fit_transform(X),columns=X.columns)"
      ],
      "execution_count": null,
      "outputs": []
    },
    {
      "cell_type": "code",
      "metadata": {
        "id": "kGMz81rEYTq4"
      },
      "source": [
        "# 'name' column is unique to almost each row and does not contribute anything to the classification model\n",
        "# 'cabin' column has too many null values\n",
        "X = X.drop(['name','cabin'],axis=1)"
      ],
      "execution_count": null,
      "outputs": []
    },
    {
      "cell_type": "code",
      "metadata": {
        "id": "iNuAGhvIZ86f"
      },
      "source": [
        "# Label Encoding ticket column\n",
        "from sklearn.preprocessing import LabelEncoder\n",
        "X['ticket']=pd.DataFrame(LabelEncoder().fit_transform(X['ticket']))\n",
        "\n",
        "# One Hot Encoding categorical columns (pclass, sex, embarked)\n",
        "for i in ['pclass','sex','embarked']:\n",
        "  temp = pd.get_dummies(X[i],prefix=i)\n",
        "  t = X.columns.get_loc(i)\n",
        "  X = X.drop(labels=i,axis=1)\n",
        "  for i in range(temp.shape[1]-1,-1,-1):\n",
        "    X.insert(t, temp.columns[i], temp.iloc[:,i],False)"
      ],
      "execution_count": null,
      "outputs": []
    },
    {
      "cell_type": "code",
      "metadata": {
        "id": "XYeG_xBUkouu"
      },
      "source": [
        "# Normalising Data\n",
        "from sklearn.preprocessing import MinMaxScaler\n",
        "X = pd.DataFrame(MinMaxScaler().fit_transform(X),columns=X.columns)"
      ],
      "execution_count": null,
      "outputs": []
    },
    {
      "cell_type": "markdown",
      "metadata": {
        "id": "4kzBIbyC52gW"
      },
      "source": [
        "#### 4.\tCheck for the outliers in the columns and treat the outliers if present."
      ]
    },
    {
      "cell_type": "code",
      "metadata": {
        "colab": {
          "base_uri": "https://localhost:8080/"
        },
        "id": "OXTtgd8icYJI",
        "outputId": "7a3f3523-f921-4938-9824-77bbef8fdc93"
      },
      "source": [
        "# checking outliers by using skewness from normal distribution\n",
        "col=[]\n",
        "skew = X.skew()\n",
        "for c in X.columns:\n",
        "  if abs(skew[c])>1:\n",
        "    col.append(c)\n",
        "print(col)"
      ],
      "execution_count": null,
      "outputs": [
        {
          "output_type": "stream",
          "name": "stdout",
          "text": [
            "['pclass_1', 'pclass_2', 'sibsp', 'parch', 'fare', 'embarked_C', 'embarked_Q']\n"
          ]
        }
      ]
    },
    {
      "cell_type": "code",
      "metadata": {
        "id": "0YMIkLLPalQV"
      },
      "source": [
        "# treating outliers by log transforming all columns with skewness\n",
        "eps=1e-7\n",
        "for c in col:\n",
        "    X[c] = np.maximum(np.full(X[c].shape, eps), np.minimum(np.full(X[c].shape, 1-eps), X[c]))\n",
        "    X[c] = np.log10(X[c])"
      ],
      "execution_count": null,
      "outputs": []
    },
    {
      "cell_type": "markdown",
      "metadata": {
        "id": "NoAT2_mx58Pm"
      },
      "source": [
        "#### 5.\tSplit the dataset into train and test. \n"
      ]
    },
    {
      "cell_type": "code",
      "metadata": {
        "id": "P4VAWj3HbIJi"
      },
      "source": [
        "from sklearn.model_selection import train_test_split\n",
        "X_train, X_test, y_train, y_test = train_test_split(X,y)"
      ],
      "execution_count": null,
      "outputs": []
    },
    {
      "cell_type": "markdown",
      "metadata": {
        "id": "mQdatWmVhfbs"
      },
      "source": [
        "#### 6.\tConstruct Naïve Bayes model "
      ]
    },
    {
      "cell_type": "code",
      "metadata": {
        "id": "CnLQzusZhmM_"
      },
      "source": [
        "# Construct Naive Bayes model to predict the survival of a person  \n",
        "from sklearn.naive_bayes import GaussianNB\n",
        "\n",
        "model = GaussianNB()\n",
        "model.fit(X_train,y_train)\n",
        "\n",
        "y_train_pred = model.predict(X_train)\n",
        "y_test_pred = model.predict(X_test)"
      ],
      "execution_count": null,
      "outputs": []
    },
    {
      "cell_type": "code",
      "metadata": {
        "colab": {
          "base_uri": "https://localhost:8080/"
        },
        "id": "r9k5-uy1i5qj",
        "outputId": "627c5aac-58c5-4d0e-ca04-6a9349a36cc7"
      },
      "source": [
        "# compare the results for train and test subsets using accuracy, precision, recall, f1 score. \n",
        "from sklearn.metrics import accuracy_score, precision_recall_fscore_support\n",
        "from numpy import mean\n",
        "\n",
        "train_a = accuracy_score(y_train,y_train_pred)\n",
        "train_p, train_r, train_f1, support = precision_recall_fscore_support(y_train,y_train_pred)\n",
        "train_scores = [train_a,mean(train_p),mean(train_r),mean(train_f1)]\n",
        "\n",
        "test_a = accuracy_score(y_test,y_test_pred)\n",
        "test_p, test_r, test_f1, support = precision_recall_fscore_support(y_test,y_test_pred)\n",
        "test_scores = [test_a,mean(test_p),mean(test_r),mean(test_f1)] \n",
        "\n",
        "def print_all(s):\n",
        "  print('Accuracy: ',s[0])\n",
        "  print('Precision: ',s[1])\n",
        "  print('Recall: ',s[2])\n",
        "  print('F1 Score: ',s[3])\n",
        "\n",
        "print('Training Model')\n",
        "print_all(train_scores)\n",
        "\n",
        "print('\\nTesting Model')\n",
        "print_all(test_scores)\n"
      ],
      "execution_count": null,
      "outputs": [
        {
          "output_type": "stream",
          "name": "stdout",
          "text": [
            "Training Model\n",
            "Accuracy:  0.7716615698267074\n",
            "Precision:  0.7593703435650729\n",
            "Recall:  0.7686410857908847\n",
            "F1 Score:  0.7624676795890659\n",
            "\n",
            "Testing Model\n",
            "Accuracy:  0.7560975609756098\n",
            "Precision:  0.7441433867084495\n",
            "Recall:  0.7502644259019862\n",
            "F1 Score:  0.7464440321583179\n"
          ]
        }
      ]
    },
    {
      "cell_type": "code",
      "metadata": {
        "colab": {
          "base_uri": "https://localhost:8080/",
          "height": 267
        },
        "id": "QBBh7RmnVGfD",
        "outputId": "155fac78-57d1-4336-85d9-9a6368dc7092"
      },
      "source": [
        "ind = np.arange(len(train_scores))\n",
        "width = 0.27\n",
        "\n",
        "ax = plt.figure().add_subplot(111)\n",
        "rects1 = ax.bar(ind-(width/2), train_scores, width, color='g')\n",
        "rects2 = ax.bar(ind+(width/2), test_scores, width, color='r')\n",
        "\n",
        "ax.set_xticks(ind)\n",
        "ax.set_xticklabels(['Accuracy','Precision','Recall','F1 Score'])\n",
        "ax.legend((rects1[0], rects2[0]), ('Training', 'Testing'),loc='center')\n",
        "\n",
        "def autolabel(rects):\n",
        "    for rect in rects:\n",
        "        h = rect.get_height()\n",
        "        ax.text(rect.get_x()+rect.get_width()/2., h, '%.2f'%h, ha='center', va='bottom')\n",
        "\n",
        "autolabel(rects1)\n",
        "autolabel(rects2)\n",
        "\n",
        "plt.show()"
      ],
      "execution_count": null,
      "outputs": [
        {
          "output_type": "display_data",
          "data": {
            "image/png": "[encoded data removed]",
            "text/plain": [
              "<Figure size 432x288 with 1 Axes>"
            ]
          },
          "metadata": {
            "needs_background": "light"
          }
        }
      ]
    },
    {
      "cell_type": "code",
      "metadata": {
        "colab": {
          "base_uri": "https://localhost:8080/",
          "height": 366
        },
        "id": "8b8edGTalryy",
        "outputId": "a8e01e88-c68e-474e-c143-02b17d45671c"
      },
      "source": [
        "# Also check the values in confusion matrix.\n",
        "from sklearn.metrics import confusion_matrix\n",
        "from sklearn.metrics import ConfusionMatrixDisplay\n",
        "import matplotlib.pyplot as plt\n",
        "\n",
        "f, axes = plt.subplots(1, 2, figsize=(15, 5), sharey='row')\n",
        "\n",
        "cm = confusion_matrix(y_train, y_train_pred, labels=model.classes_)\n",
        "disp = ConfusionMatrixDisplay(confusion_matrix=cm, display_labels=model.classes_)\n",
        "disp.plot(ax=axes[0])\n",
        "disp.ax_.set_title('Training Dataset')\n",
        "disp.im_.colorbar.remove()\n",
        "disp.ax_.set_xlabel('')\n",
        "disp.ax_.set_ylabel('True')\n",
        "\n",
        "cm = confusion_matrix(y_test, y_test_pred, labels=model.classes_)\n",
        "disp = ConfusionMatrixDisplay(confusion_matrix=cm, display_labels=model.classes_)\n",
        "disp.plot(ax=axes[1])\n",
        "disp.ax_.set_title('Testing Dataset')\n",
        "disp.ax_.set_xlabel('')\n",
        "disp.ax_.set_ylabel('')\n",
        "\n",
        "f.text(0.5, 0, 'Predicted', ha='left')\n",
        "plt.subplots_adjust(wspace=0.1, hspace=0.1)\n",
        "\n",
        "plt.show()"
      ],
      "execution_count": null,
      "outputs": [
        {
          "output_type": "display_data",
          "data": {
            "image/png": "[encoded data removed]",
            "text/plain": [
              "<Figure size 1080x360 with 3 Axes>"
            ]
          },
          "metadata": {
            "needs_background": "light"
          }
        }
      ]
    },
    {
      "cell_type": "markdown",
      "metadata": {
        "id": "-7DU604nlPPW"
      },
      "source": [
        "#### 7.\tLook for real world applications where you can apply Naïve Bayes classification model."
      ]
    },
    {
      "cell_type": "markdown",
      "metadata": {
        "id": "CHCtywwPaOsl"
      },
      "source": [
        "Sentiment Analysis\n",
        "\n",
        "One of the most prominent areas of machine learning is sentiment analysis, and this algorithm is quite useful there as well. Sentiment analysis focuses on identifying whether the customers think positively or negatively about a certain topic (product or service)."
      ]
    },
    {
      "cell_type": "markdown",
      "metadata": {
        "id": "dRs7zAw6fRjB"
      },
      "source": [
        "Recommender Systems\n",
        "\n",
        "With the help of Collaborative Filtering, Naive Bayes Classifier builds a powerful recommender system to predict if a user would like a particular product (or resource) or not. Amazon, Netflix, and Flipkart are prominent companies that use recommender systems to suggest products to their customers. "
      ]
    },
    {
      "cell_type": "markdown",
      "metadata": {
        "id": "miEUgTbTfW6a"
      },
      "source": [
        "Text Classification\n",
        "\n",
        "Most of the time, Naive Bayes finds uses in-text classification due to its assumption of independence and high performance in solving multi-class problems. It enjoys a high rate of success than other algorithms due to its speed and efficiency. "
      ]
    }
  ]
}